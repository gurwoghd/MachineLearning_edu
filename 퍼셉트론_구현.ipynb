{
  "nbformat": 4,
  "nbformat_minor": 0,
  "metadata": {
    "colab": {
      "name": "퍼셉트론_구현.ipynb",
      "provenance": [],
      "collapsed_sections": [],
      "authorship_tag": "ABX9TyPwT+42ORHvSB23g0AGgEFC",
      "include_colab_link": true
    },
    "kernelspec": {
      "name": "python3",
      "display_name": "Python 3"
    },
    "language_info": {
      "name": "python"
    }
  },
  "cells": [
    {
      "cell_type": "markdown",
      "metadata": {
        "id": "view-in-github",
        "colab_type": "text"
      },
      "source": [
        "<a href=\"https://colab.research.google.com/github/gurwoghd/MachineLearning_edu/blob/main/%ED%8D%BC%EC%85%89%ED%8A%B8%EB%A1%A0_%EA%B5%AC%ED%98%84.ipynb\" target=\"_parent\"><img src=\"https://colab.research.google.com/assets/colab-badge.svg\" alt=\"Open In Colab\"/></a>"
      ]
    },
    {
      "cell_type": "code",
      "metadata": {
        "id": "hvnV-po7so8v"
      },
      "source": [
        "# AND게이트 구현\n",
        "# 입력  x1과 입력 x2가 모두 참일 때 1을 출력한다\n",
        "\n",
        "def AND(x1, x2):\n",
        "  w1, w2, theta = 1,1,1.89\n",
        "  value = w1*x1 + w2*x2\n",
        "  if value <= theta:\n",
        "    return 0\n",
        "  elif value > theta:\n",
        "    return 1"
      ],
      "execution_count": 17,
      "outputs": []
    },
    {
      "cell_type": "code",
      "metadata": {
        "colab": {
          "base_uri": "https://localhost:8080/"
        },
        "id": "1hwUC3HBsqQu",
        "outputId": "1654ec3e-b6b6-4a71-e756-304df015b117"
      },
      "source": [
        "print(AND(0,0))\n",
        "print(AND(0,1))\n",
        "print(AND(1,0))\n",
        "print(AND(1,1))\n"
      ],
      "execution_count": 18,
      "outputs": [
        {
          "output_type": "stream",
          "text": [
            "0\n",
            "0\n",
            "0\n",
            "1\n"
          ],
          "name": "stdout"
        }
      ]
    },
    {
      "cell_type": "code",
      "metadata": {
        "id": "slKAQWjGtsFN"
      },
      "source": [
        "# NAND게이트 구현\n",
        "# AND의 반대\n",
        "\n",
        "def NAND(x1, x2):\n",
        "  w1, w2, theta = 1, 1, 1.89\n",
        "  value = w1*x1 + w2*x2\n",
        "  if value <= theta:\n",
        "    return 1\n",
        "  elif value > theta:\n",
        "    return 0"
      ],
      "execution_count": 27,
      "outputs": []
    },
    {
      "cell_type": "code",
      "metadata": {
        "colab": {
          "base_uri": "https://localhost:8080/"
        },
        "id": "-0aJ9hsTuyj1",
        "outputId": "ff3e54a0-6732-432b-9574-07bbf898b372"
      },
      "source": [
        "print(NAND(0,0))\n",
        "print(NAND(0,1))\n",
        "print(NAND(1,0))\n",
        "print(NAND(1,1))\n"
      ],
      "execution_count": 28,
      "outputs": [
        {
          "output_type": "stream",
          "text": [
            "1\n",
            "1\n",
            "1\n",
            "0\n"
          ],
          "name": "stdout"
        }
      ]
    },
    {
      "cell_type": "code",
      "metadata": {
        "id": "_9n03vQpuz0l"
      },
      "source": [
        "# OR게이트 구현\n",
        "# 입력 x1, x2 둘 중 하나라도 참이면 1을 출력한다. \n",
        "\n",
        "def OR(x1, x2):\n",
        "  w1, w2, theta = 1, 1, 1\n",
        "  value = w1*x1 + w2*x2\n",
        "  if value < theta:\n",
        "    return 0\n",
        "  elif value >= theta:\n",
        "    return 1"
      ],
      "execution_count": 29,
      "outputs": []
    },
    {
      "cell_type": "code",
      "metadata": {
        "colab": {
          "base_uri": "https://localhost:8080/"
        },
        "id": "d4HmTOlXvQDV",
        "outputId": "05831324-7a15-4028-ef2f-9bfb4f5098b4"
      },
      "source": [
        "print(OR(0,0))\n",
        "print(OR(0,1))\n",
        "print(OR(1,0))\n",
        "print(OR(1,1))\n"
      ],
      "execution_count": 30,
      "outputs": [
        {
          "output_type": "stream",
          "text": [
            "0\n",
            "1\n",
            "1\n",
            "1\n"
          ],
          "name": "stdout"
        }
      ]
    },
    {
      "cell_type": "code",
      "metadata": {
        "id": "BI0qaeR2vRSF"
      },
      "source": [
        ""
      ],
      "execution_count": null,
      "outputs": []
    }
  ]
}